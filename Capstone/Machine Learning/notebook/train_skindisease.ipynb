{
 "cells": [
  {
   "cell_type": "code",
   "execution_count": 1,
   "metadata": {
    "colab": {},
    "colab_type": "code",
    "id": "zX4Kg8DUTKWO"
   },
   "outputs": [],
   "source": [
    "#@title Licensed under the Apache License, Version 2.0 (the \"License\");\n",
    "# you may not use this file except in compliance with the License.\n",
    "# You may obtain a copy of the License at\n",
    "#\n",
    "# https://www.apache.org/licenses/LICENSE-2.0\n",
    "#\n",
    "# Unless required by applicable law or agreed to in writing, software\n",
    "# distributed under the License is distributed on an \"AS IS\" BASIS,\n",
    "# WITHOUT WARRANTIES OR CONDITIONS OF ANY KIND, either express or implied.\n",
    "# See the License for the specific language governing permissions and\n",
    "# limitations under the License."
   ]
  },
  {
   "cell_type": "markdown",
   "metadata": {
    "colab_type": "text",
    "id": "YHK6DyunSbs4"
   },
   "source": [
    "# Converting a Keras Model to JSON Format\n",
    "\n",
    "In the previous lesson, you saw how to use a CNN to make your recognition of the handwriting digits more efficient. Now you'll take that to the next level: recognizing real images of cats and dogs to classify an incoming image as one or the other. In particular, the handwriting recognition made your life a little easier by having all the images be the same size and shape, and they were all monochrome color. Real-world images aren't like that -- they're in different shapes, aspect ratios etc, and they're usually in color!\n",
    "\n",
    "So, as part of the task you need to process your data -- not least resizing it to be uniform in shape. \n",
    "\n",
    "You'll follow these steps:\n",
    "\n",
    "1. Explore the example data of cats and dogs.\n",
    "2. Build and train a neural network to recognize the difference between the two.\n",
    "3. Evaluate the training and validation accuracy.\n",
    "4. Save the trained model as a Keras HDF5 file.\n",
    "5. Use the tensorflow.js converter to convert the saved Keras model into JSON format."
   ]
  },
  {
   "cell_type": "markdown",
   "metadata": {},
   "source": [
    "## Import Tensorflow\n",
    "\n",
    "**NOTE:** You need to use Tensorflow v2.2 in this lab for compatibility with the autograder. Please be aware of this in case you decide to use your own machine or Google Colab. To complete the requirements for this course, we recommend using the Coursera Lab environment first to avoid grader errors about incompatible models. Once you've passed it, feel free to export the notebook to another machine with a more recent Tensorflow version. Most, if not all, of the commands will stay the same but the model output will be a bit different in later versions."
   ]
  },
  {
   "cell_type": "code",
   "execution_count": 2,
   "metadata": {},
   "outputs": [
    {
     "name": "stdout",
     "output_type": "stream",
     "text": [
      "• Using TensorFlow Version: 2.2.0\n"
     ]
    }
   ],
   "source": [
    "import tensorflow as tf\n",
    "\n",
    "# This should show version 2.2 to match the autograder\n",
    "print('\\u2022 Using TensorFlow Version:', tf.__version__)"
   ]
  },
  {
   "cell_type": "markdown",
   "metadata": {
    "colab_type": "text",
    "id": "UY6KJV6z6l7_"
   },
   "source": [
    "## Explore the Example Data\n",
    "\n",
    "We'll be using only 2,000 images taken from the original [\"Dogs vs. Cats\" dataset](https://www.kaggle.com/c/dogs-vs-cats/data) dataset available on Kaggle, which contains 25,000 images. Here, we use a subset of the full dataset to decrease training time for educational purposes.\n",
    "\n",
    "These are saved in your workspace under the `./data/cats_and_dogs_filtered` folder. This contains `train` and `validation` subdirectories for the training and validation datasets (see the [Machine Learning Crash Course](https://developers.google.com/machine-learning/crash-course/validation/check-your-intuition) for a refresher on training, validation, and test sets), which in turn each contain `cats` and `dogs` subdirectories.\n",
    "\n",
    "In short: The training set is the data that is used to tell the neural network model that 'this is what a cat looks like', 'this is what a dog looks like' etc. The validation data set is images of cats and dogs that the neural network will not see as part of the training, so you can test how well or how badly it does in evaluating if an image contains a cat or a dog.\n",
    "\n",
    "One thing to pay attention to in this sample: We do not explicitly label the images as cats or dogs. If you remember with the handwriting example earlier, we had labelled 'this is a 1', 'this is a 7' etc.  Later you'll see something called an ImageGenerator being used -- and this is coded to read images from subdirectories, and automatically label them from the name of that subdirectory. So, for example, you will have a 'training' directory containing a 'cats' directory and a 'dogs' one. ImageGenerator will label the images appropriately for you, reducing a coding step. \n",
    "\n",
    "Let's define each of these directories:\n"
   ]
  },
  {
   "cell_type": "code",
   "execution_count": null,
   "metadata": {},
   "outputs": [],
   "source": [
    "!unzip archive_data.zip"
   ]
  },
  {
   "cell_type": "code",
   "execution_count": 3,
   "metadata": {
    "colab": {},
    "colab_type": "code",
    "id": "MLZKVtE0dSfk"
   },
   "outputs": [],
   "source": [
    "import os\n",
    "\n",
    "base_dir = './skin-disease-datasaet'\n",
    "\n",
    "train_dir = os.path.join(base_dir, 'train_set')\n",
    "validation_dir = os.path.join(base_dir, 'test_set')\n",
    "\n",
    "# Directory with our training cat/dog pictures\n",
    "train_1_dir = os.path.join(train_dir, 'BA- cellulitis')\n",
    "train_2_dir = os.path.join(train_dir, 'BA-impetigo')\n",
    "train_3_dir = os.path.join(train_dir, 'FU-athlete-foot')\n",
    "train_4_dir = os.path.join(train_dir, 'FU-nail-fungus')\n",
    "train_5_dir = os.path.join(train_dir, 'FU-ringworm')\n",
    "train_6_dir = os.path.join(train_dir, 'PA-cutaneous-larva-migrans')\n",
    "train_7_dir = os.path.join(train_dir, 'VI-chickenpox')\n",
    "train_8_dir = os.path.join(train_dir, 'VI-shingles')\n",
    "\n",
    "# Directory with our training cat/dog pictures\n",
    "test_1_dir = os.path.join(validation_dir, 'BA- cellulitis')\n",
    "test_2_dir = os.path.join(validation_dir, 'BA-impetigo')\n",
    "test_3_dir = os.path.join(validation_dir, 'FU-athlete-foot')\n",
    "test_4_dir = os.path.join(validation_dir, 'FU-nail-fungus')\n",
    "test_5_dir = os.path.join(validation_dir, 'FU-ringworm')\n",
    "test_6_dir = os.path.join(validation_dir, 'PA-cutaneous-larva-migrans')\n",
    "test_7_dir = os.path.join(validation_dir, 'VI-chickenpox')\n",
    "test_8_dir = os.path.join(validation_dir, 'VI-shingles')"
   ]
  },
  {
   "cell_type": "markdown",
   "metadata": {
    "colab_type": "text",
    "id": "LuBYtA_Zd8_T"
   },
   "source": [
    "Now, let's see what the filenames look like in the `cats` and `dogs` `train` directories (file naming conventions are the same in the `validation` directory):"
   ]
  },
  {
   "cell_type": "code",
   "execution_count": 4,
   "metadata": {
    "colab": {},
    "colab_type": "code",
    "id": "4PIP1rkmeAYS"
   },
   "outputs": [
    {
     "name": "stdout",
     "output_type": "stream",
     "text": [
      "['BA- cellulitis (114).jpg', 'BA- cellulitis (42).jpg', 'BA- cellulitis (150).jpg', 'BA- cellulitis (24).jpg', 'BA- cellulitis (132).jpg', 'BA- cellulitis (60).jpg', 'BA- cellulitis (15).jpg', 'BA- cellulitis (1).jpeg', 'BA- cellulitis (123).jpg', 'BA- cellulitis (51).jpg']\n",
      "['24_BA-impetigo (67).jpg', '94_BA-impetigo (6).jpg', '25_BA-impetigo (48).jpg', '65_BA-impetigo (3).jpeg', '67_BA-impetigo (1).jpeg', '45_BA-impetigo (37).jpg', '34_BA-impetigo (40).jpg', '99_BA-impetigo (45).jpg', '55_BA-impetigo (10).jpg', '4_BA-impetigo (34).jpg']\n",
      "['FU-athlete-foot (57).jpg', 'FU-athlete-foot (93).jpg', 'FU-athlete-foot (75).jpg', 'FU-athlete-foot (7).jpeg', 'FU-athlete-foot (16).jpeg', 'FU-athlete-foot (39).jpg', 'FU-athlete-foot (66).jpg', 'FU-athlete-foot (84).jpg', 'FU-athlete-foot (48).jpg', 'FU-athlete-foot (22).jpg']\n",
      "['_3_6280.jpg', '_65_1313.jpg', '_37_3886.jpg', '_51_6878.jpg', '_37_3778.jpg', '_46_5785.jpg', '_71_9396.jpg', '_61_4215.jpg', '_21_9438.jpg', '_44_3646.jpg']\n",
      "['26_FU-ringworm (66).jpg', '46_FU-ringworm (46).jpg', '8_FU-ringworm (7).jpeg', '65_FU-ringworm (63).jpg', '66_FU-ringworm (62).jpg', '93_FU-ringworm (8).jpg', '85_FU-ringworm (61).jpg', '92_FU-ringworm (45).jpg', '74_FU-ringworm (4).jpeg', '86_FU-ringworm (10).jpeg']\n",
      "['110_PA-cutaneous-larva-migrans (54).jpg', '120_PA-cutaneous-larva-migrans (44).jpg', '113_PA-cutaneous-larva-migrans (51).jpg', '17_PA-cutaneous-larva-migrans (65).jpg', '62_PA-cutaneous-larva-migrans (56).jpg', '28_PA-cutaneous-larva-migrans (54).jpg', '59_PA-cutaneous-larva-migrans (32).jpg', '102_PA-cutaneous-larva-migrans (57).jpg', '26_PA-cutaneous-larva-migrans (52).jpg', '50_PA-cutaneous-larva-migrans (46).jpg']\n",
      "['99_VI-chickenpox (2).jpeg', '89_VI-chickenpox (26).jpg', '151_VI-chickenpox (11).jpg', '21_VI-chickenpox (1).jpeg', '76_VI-chickenpox (13).jpg', '68_VI-chickenpox (3).jpg', '55_VI-chickenpox (16).jpg', '149_VI-chickenpox (12).jpg', '167_VI-chickenpox (12).jpg', '49_VI-chickenpox (22).jpg']\n",
      "['130_VI-shingles (4).jpg', '103_VI-shingles (13).jpg', '151_VI-shingles (1).jpg', '162_VI-shingles (2).jpeg', '154_VI-shingles (6).jpg', '82_VI-shingles (15).jpg', '64_VI-shingles (1).jpeg', '55_VI-shingles (15).jpg', '54_VI-shingles (34).jpg', '81_VI-shingles (7).jpg']\n"
     ]
    }
   ],
   "source": [
    "train_1_fnames = os.listdir( train_1_dir )\n",
    "train_2_fnames = os.listdir( train_2_dir )\n",
    "train_3_fnames = os.listdir( train_3_dir )\n",
    "train_4_fnames = os.listdir( train_4_dir )\n",
    "train_5_fnames = os.listdir( train_5_dir )\n",
    "train_6_fnames = os.listdir( train_6_dir )\n",
    "train_7_fnames = os.listdir( train_7_dir )\n",
    "train_8_fnames = os.listdir( train_8_dir )\n",
    "\n",
    "print(train_1_fnames[:10])\n",
    "print(train_2_fnames[:10])\n",
    "print(train_3_fnames[:10])\n",
    "print(train_4_fnames[:10])\n",
    "print(train_5_fnames[:10])\n",
    "print(train_6_fnames[:10])\n",
    "print(train_7_fnames[:10])\n",
    "print(train_8_fnames[:10])"
   ]
  },
  {
   "cell_type": "markdown",
   "metadata": {
    "colab_type": "text",
    "id": "HlqN5KbafhLI"
   },
   "source": [
    "Let's find out the total number of cat and dog images in the `train` and `validation` directories:"
   ]
  },
  {
   "cell_type": "code",
   "execution_count": 5,
   "metadata": {
    "colab": {},
    "colab_type": "code",
    "id": "H4XHh2xSfgie"
   },
   "outputs": [
    {
     "name": "stdout",
     "output_type": "stream",
     "text": [
      "total training 1 images : 136\n",
      "total training 2 images : 80\n",
      "total training 3 images : 124\n",
      "total training 4 images : 129\n",
      "total training 5 images : 90\n",
      "total training 6 images : 100\n",
      "total training 7 images : 136\n",
      "total training 8 images : 130\n",
      "total test 1 images : 34\n",
      "total test 2 images : 20\n",
      "total test 3 images : 32\n",
      "total test 4 images : 33\n",
      "total test 5 images : 23\n",
      "total test 6 images : 25\n",
      "total test 7 images : 34\n",
      "total test 8 images : 33\n"
     ]
    }
   ],
   "source": [
    "print('total training 1 images :', len(os.listdir(train_1_dir) ))\n",
    "print('total training 2 images :', len(os.listdir(train_2_dir) ))\n",
    "print('total training 3 images :', len(os.listdir(train_3_dir) ))\n",
    "print('total training 4 images :', len(os.listdir(train_4_dir) ))\n",
    "print('total training 5 images :', len(os.listdir(train_5_dir) ))\n",
    "print('total training 6 images :', len(os.listdir(train_6_dir) ))\n",
    "print('total training 7 images :', len(os.listdir(train_7_dir) ))\n",
    "print('total training 8 images :', len(os.listdir(train_8_dir) ))\n",
    "\n",
    "print('total test 1 images :', len(os.listdir(test_1_dir) ))\n",
    "print('total test 2 images :', len(os.listdir(test_2_dir) ))\n",
    "print('total test 3 images :', len(os.listdir(test_3_dir) ))\n",
    "print('total test 4 images :', len(os.listdir(test_4_dir) ))\n",
    "print('total test 5 images :', len(os.listdir(test_5_dir) ))\n",
    "print('total test 6 images :', len(os.listdir(test_6_dir) ))\n",
    "print('total test 7 images :', len(os.listdir(test_7_dir) ))\n",
    "print('total test 8 images :', len(os.listdir(test_8_dir) ))"
   ]
  },
  {
   "cell_type": "markdown",
   "metadata": {
    "colab_type": "text",
    "id": "C3WZABE9eX-8"
   },
   "source": [
    "For both cats and dogs, we have 1,000 training images and 500 validation images.\n",
    "\n",
    "Now let's take a look at a few pictures to get a better sense of what the cat and dog datasets look like. First, we configure the `matplotlib` parameters:"
   ]
  },
  {
   "cell_type": "code",
   "execution_count": 6,
   "metadata": {
    "colab": {},
    "colab_type": "code",
    "id": "b2_Q0-_5UAv-"
   },
   "outputs": [],
   "source": [
    "%matplotlib inline\n",
    "\n",
    "import matplotlib.image as mpimg\n",
    "import matplotlib.pyplot as plt\n",
    "\n",
    "# Parameters for our graph; we'll output images in a 4x4 configuration\n",
    "nrows = 224\n",
    "ncols = 224\n",
    "\n",
    "pic_index = 0 # Index for iterating over images"
   ]
  },
  {
   "cell_type": "markdown",
   "metadata": {
    "colab_type": "text",
    "id": "BQhDdYPEZvJt"
   },
   "source": [
    "It may not be obvious from looking at the images in this grid, but an important note here, and a significant difference from the previous lesson is that these images come in all shapes and sizes. When you did the handwriting recognition example, you had 28x28 greyscale images to work with. These are color and in a variety of shapes. Before training a Neural network with them you'll need to tweak the images. You'll see that in the next section.\n",
    "\n",
    "Ok, now that you have an idea for what your data looks like, the next step is to define the model that will be trained to recognize cats or dogs from these images "
   ]
  },
  {
   "cell_type": "markdown",
   "metadata": {
    "colab_type": "text",
    "id": "5oqBkNBJmtUv"
   },
   "source": [
    "## Building a Small Model from Scratch to Get to ~72% Accuracy\n",
    "\n",
    "In the previous section you saw that the images were in a variety of shapes and sizes. In order to train a neural network to handle them you'll need them to be in a uniform size. We've chosen 150x150 for this, and you'll see the code that preprocesses the images to that shape shortly. \n",
    "\n",
    "But before we continue, let's start defining the model. We will define a Sequential layer as before, adding some convolutional layers first. Note the input shape parameter this time. In the earlier example it was 28x28x1, because the image was 28x28 in greyscale (8 bits, 1 byte for color depth). This time it is 150x150 for the size and 3 (24 bits, 3 bytes) for the color depth. \n",
    "\n",
    "We then add a couple of convolutional layers as in the previous example, and flatten the final result to feed into the densely connected layers.\n",
    "\n",
    "Finally we add the densely connected layers. \n",
    "\n",
    "Note that because we are facing a two-class classification problem, i.e. a *binary classification problem*, we will end our network with a [*sigmoid* activation](https://wikipedia.org/wiki/Sigmoid_function), so that the output of our network will be a single scalar between 0 and 1, encoding the probability that the current image is class 1 (as opposed to class 0)."
   ]
  },
  {
   "cell_type": "code",
   "execution_count": 8,
   "metadata": {
    "colab": {},
    "colab_type": "code",
    "id": "PixZ2s5QbYQ3"
   },
   "outputs": [],
   "source": [
    "model = tf.keras.models.Sequential([\n",
    "    # Note the input shape is the desired size of the image 150x150 with 3 bytes color\n",
    "    tf.keras.layers.Conv2D(16, (3,3), activation='relu', input_shape=(224, 224, 3)),\n",
    "    tf.keras.layers.MaxPooling2D(2,2),\n",
    "    tf.keras.layers.Conv2D(32, (3,3), activation='relu'),\n",
    "    tf.keras.layers.MaxPooling2D(2,2), \n",
    "    tf.keras.layers.Conv2D(64, (3,3), activation='relu'), \n",
    "    tf.keras.layers.MaxPooling2D(2,2),\n",
    "    # Flatten the results to feed into a DNN\n",
    "    tf.keras.layers.Flatten(), \n",
    "    # 512 neuron hidden layer\n",
    "    tf.keras.layers.Dense(512, activation='relu'), \n",
    "    # Only 1 output neuron. It will contain a value from 0-1 where 0 for 1 class ('cats') and 1 for the other ('dogs')\n",
    "    tf.keras.layers.Dense(8, activation='softmax')  \n",
    "])"
   ]
  },
  {
   "cell_type": "markdown",
   "metadata": {
    "colab_type": "text",
    "id": "s9EaFDP5srBa"
   },
   "source": [
    "The `model.summary()` method call prints a summary of the NN "
   ]
  },
  {
   "cell_type": "code",
   "execution_count": 9,
   "metadata": {
    "colab": {},
    "colab_type": "code",
    "id": "7ZKj8392nbgP"
   },
   "outputs": [
    {
     "name": "stdout",
     "output_type": "stream",
     "text": [
      "Model: \"sequential\"\n",
      "_________________________________________________________________\n",
      "Layer (type)                 Output Shape              Param #   \n",
      "=================================================================\n",
      "conv2d (Conv2D)              (None, 222, 222, 16)      448       \n",
      "_________________________________________________________________\n",
      "max_pooling2d (MaxPooling2D) (None, 111, 111, 16)      0         \n",
      "_________________________________________________________________\n",
      "conv2d_1 (Conv2D)            (None, 109, 109, 32)      4640      \n",
      "_________________________________________________________________\n",
      "max_pooling2d_1 (MaxPooling2 (None, 54, 54, 32)        0         \n",
      "_________________________________________________________________\n",
      "conv2d_2 (Conv2D)            (None, 52, 52, 64)        18496     \n",
      "_________________________________________________________________\n",
      "max_pooling2d_2 (MaxPooling2 (None, 26, 26, 64)        0         \n",
      "_________________________________________________________________\n",
      "flatten (Flatten)            (None, 43264)             0         \n",
      "_________________________________________________________________\n",
      "dense (Dense)                (None, 512)               22151680  \n",
      "_________________________________________________________________\n",
      "dense_1 (Dense)              (None, 8)                 4104      \n",
      "=================================================================\n",
      "Total params: 22,179,368\n",
      "Trainable params: 22,179,368\n",
      "Non-trainable params: 0\n",
      "_________________________________________________________________\n"
     ]
    }
   ],
   "source": [
    "model.summary()"
   ]
  },
  {
   "cell_type": "markdown",
   "metadata": {
    "colab_type": "text",
    "id": "DmtkTn06pKxF"
   },
   "source": [
    "The \"output shape\" column shows how the size of your feature map evolves in each successive layer. The convolution layers reduce the size of the feature maps by a bit due to padding, and each pooling layer halves the dimensions."
   ]
  },
  {
   "cell_type": "markdown",
   "metadata": {
    "colab_type": "text",
    "id": "PEkKSpZlvJXA"
   },
   "source": [
    "Next, we'll configure the specifications for model training. We will train our model with the `binary_crossentropy` loss, because it's a binary classification problem and our final activation is a sigmoid. (For a refresher on loss metrics, see the [Machine Learning Crash Course](https://developers.google.com/machine-learning/crash-course/descending-into-ml/video-lecture).) We will use the `rmsprop` optimizer with a learning rate of `0.001`. During training, we will want to monitor classification accuracy.\n",
    "\n",
    "**NOTE**: In this case, using the [RMSprop optimization algorithm](https://wikipedia.org/wiki/Stochastic_gradient_descent#RMSProp) is preferable to [stochastic gradient descent](https://developers.google.com/machine-learning/glossary/#SGD) (SGD), because RMSprop automates learning-rate tuning for us. (Other optimizers, such as [Adam](https://wikipedia.org/wiki/Stochastic_gradient_descent#Adam) and [Adagrad](https://developers.google.com/machine-learning/glossary/#AdaGrad), also automatically adapt the learning rate during training, and would work equally well here.)"
   ]
  },
  {
   "cell_type": "code",
   "execution_count": 10,
   "metadata": {
    "colab": {},
    "colab_type": "code",
    "id": "8DHWhFP_uhq3"
   },
   "outputs": [],
   "source": [
    "model.compile(\n",
    "    optimizer='adam',\n",
    "    loss='categorical_crossentropy',\n",
    "    metrics=['accuracy']\n",
    ")"
   ]
  },
  {
   "cell_type": "markdown",
   "metadata": {
    "colab_type": "text",
    "id": "Sn9m9D3UimHM"
   },
   "source": [
    "### Data Preprocessing\n",
    "\n",
    "Let's set up data generators that will read pictures in our source folders, convert them to `float32` tensors, and feed them (with their labels) to our network. We'll have one generator for the training images and one for the validation images. Our generators will yield batches of 20 images of size 150x150 and their labels (binary).\n",
    "\n",
    "As you may already know, data that goes into neural networks should usually be normalized in some way to make it more amenable to processing by the network. (It is uncommon to feed raw pixels into a convnet.) In our case, we will preprocess our images by normalizing the pixel values to be in the `[0, 1]` range (originally all values are in the `[0, 255]` range).\n",
    "\n",
    "In Keras this can be done via the `keras.preprocessing.image.ImageDataGenerator` class using the `rescale` parameter. This `ImageDataGenerator` class allows you to instantiate generators of augmented image batches (and their labels) via `.flow(data, labels)` or `.flow_from_directory(directory)`. These generators can then be used with the Keras model methods that accept data generators as inputs: `fit`, `evaluate_generator`, and `predict_generator`."
   ]
  },
  {
   "cell_type": "code",
   "execution_count": 11,
   "metadata": {
    "colab": {},
    "colab_type": "code",
    "id": "ClebU9NJg99G"
   },
   "outputs": [
    {
     "name": "stdout",
     "output_type": "stream",
     "text": [
      "Found 924 images belonging to 8 classes.\n",
      "Found 233 images belonging to 8 classes.\n"
     ]
    }
   ],
   "source": [
    "from tensorflow.keras.preprocessing.image import ImageDataGenerator\n",
    "\n",
    "# All images will be rescaled by 1./255.\n",
    "train_datagen = ImageDataGenerator( rescale = 1.0/255. )\n",
    "test_datagen  = ImageDataGenerator( rescale = 1.0/255. )\n",
    "\n",
    "# --------------------\n",
    "# Flow training images in batches of 20 using train_datagen generator\n",
    "# --------------------\n",
    "train_generator = train_datagen.flow_from_directory(train_dir,\n",
    "                                                    batch_size=64,\n",
    "                                                    class_mode='categorical',\n",
    "                                                    target_size=(224, 224))     \n",
    "# --------------------\n",
    "# Flow validation images in batches of 20 using test_datagen generator\n",
    "# --------------------\n",
    "validation_generator =  test_datagen.flow_from_directory(validation_dir,\n",
    "                                                         batch_size=64,\n",
    "                                                         class_mode  = 'categorical',\n",
    "                                                         target_size = (224, 224))\n"
   ]
  },
  {
   "cell_type": "markdown",
   "metadata": {
    "colab_type": "text",
    "id": "mu3Jdwkjwax4"
   },
   "source": [
    "### Training\n",
    "\n",
    "Let's train on all 2,000 images available, for 15 epochs, and validate on all 1,000 test images. (This may take a few minutes to run.)\n",
    "\n",
    "Do note the values per epoch. You'll see 4 metrics -- loss, accuracy, validation loss and validation accuracy. \n",
    "\n",
    "The loss and accuracy are a great indication of progress of training. It's making a guess as to the classification of the training data, and then measuring it against the known label, calculating the result. Accuracy is the portion of correct guesses. The validation accuracy is the measurement with the data that has not been used in training. As expected this would be a bit lower. You'll learn about why this occurs in the section on overfitting later in this course. You are also given a callback function to stop the training when both the training and validation accuracy exceeds 70 percent."
   ]
  },
  {
   "cell_type": "code",
   "execution_count": 17,
   "metadata": {},
   "outputs": [],
   "source": [
    "# class myCallback(tf.keras.callbacks.Callback):\n",
    "#     def on_epoch_end(self, epoch, logs={}):\n",
    "#         if(logs.get('acc')>0.8 and logs.get('val_acc')>0.8):\n",
    "#             print(\"\\nReached 99.8% accuracy so cancelling training!\")\n",
    "#             self.model.stop_training = True\n",
    "\n",
    "# callbacks = myCallback()"
   ]
  },
  {
   "cell_type": "code",
   "execution_count": 19,
   "metadata": {
    "colab": {},
    "colab_type": "code",
    "id": "Fb1_lgobv81m"
   },
   "outputs": [
    {
     "name": "stdout",
     "output_type": "stream",
     "text": [
      "Epoch 1/10\n",
      "100/100 [==============================] - 332s 3s/step - loss: 0.0017 - accuracy: 1.0000 - val_loss: 1.6944 - val_accuracy: 0.7739\n",
      "Epoch 2/10\n",
      "100/100 [==============================] - 333s 3s/step - loss: 3.4647e-04 - accuracy: 1.0000 - val_loss: 1.7950 - val_accuracy: 0.7743\n",
      "Epoch 3/10\n",
      "100/100 [==============================] - 336s 3s/step - loss: 2.0103e-04 - accuracy: 1.0000 - val_loss: 1.8707 - val_accuracy: 0.7743\n",
      "Epoch 4/10\n",
      "100/100 [==============================] - 334s 3s/step - loss: 1.3048e-04 - accuracy: 1.0000 - val_loss: 1.8738 - val_accuracy: 0.7818\n",
      "Epoch 5/10\n",
      "100/100 [==============================] - 333s 3s/step - loss: 8.4392e-05 - accuracy: 1.0000 - val_loss: 1.9209 - val_accuracy: 0.7994\n",
      "Epoch 6/10\n",
      "100/100 [==============================] - 338s 3s/step - loss: 5.6605e-05 - accuracy: 1.0000 - val_loss: 1.9681 - val_accuracy: 0.7975\n",
      "Epoch 7/10\n",
      "100/100 [==============================] - 330s 3s/step - loss: 3.7998e-05 - accuracy: 1.0000 - val_loss: 1.9474 - val_accuracy: 0.7999\n",
      "Epoch 8/10\n",
      "100/100 [==============================] - 331s 3s/step - loss: 2.7101e-05 - accuracy: 1.0000 - val_loss: 2.0300 - val_accuracy: 0.7963\n",
      "Epoch 9/10\n",
      "100/100 [==============================] - 333s 3s/step - loss: 1.9704e-05 - accuracy: 1.0000 - val_loss: 2.0280 - val_accuracy: 0.7994\n",
      "Epoch 10/10\n",
      "100/100 [==============================] - 331s 3s/step - loss: 1.4969e-05 - accuracy: 1.0000 - val_loss: 2.0614 - val_accuracy: 0.7969\n"
     ]
    }
   ],
   "source": [
    "history = model.fit(\n",
    "    train_generator,\n",
    "    validation_data=validation_generator,\n",
    "    steps_per_epoch=100,\n",
    "    epochs=10,\n",
    "    validation_steps=50,\n",
    "    verbose=1,\n",
    ")"
   ]
  },
  {
   "cell_type": "markdown",
   "metadata": {
    "colab_type": "text",
    "id": "Q5Vulban4ZrD"
   },
   "source": [
    "### Evaluating Accuracy and Loss for the Model\n",
    "\n",
    "Let's plot the training/validation accuracy and loss as collected during training:"
   ]
  },
  {
   "cell_type": "code",
   "execution_count": 27,
   "metadata": {
    "colab": {},
    "colab_type": "code",
    "id": "0oj0gTIy4k60"
   },
   "outputs": [
    {
     "data": {
      "text/plain": [
       "Text(0.5, 1.0, 'Training and validation loss')"
      ]
     },
     "execution_count": 27,
     "metadata": {},
     "output_type": "execute_result"
    },
    {
     "data": {
      "image/png": "[encoded data removed]",
      "text/plain": [
       "<Figure size 432x288 with 1 Axes>"
      ]
     },
     "metadata": {
      "needs_background": "light"
     },
     "output_type": "display_data"
    },
    {
     "data": {
      "image/png": "[encoded data removed]",
      "text/plain": [
       "<Figure size 432x288 with 1 Axes>"
      ]
     },
     "metadata": {
      "needs_background": "light"
     },
     "output_type": "display_data"
    }
   ],
   "source": [
    "#-----------------------------------------------------------\n",
    "# Retrieve a list of list results on training and test data\n",
    "# sets for each training epoch\n",
    "#-----------------------------------------------------------\n",
    "acc      = history.history[     'accuracy' ]\n",
    "val_acc  = history.history[ 'val_accuracy' ]\n",
    "loss     = history.history[    'loss' ]\n",
    "val_loss = history.history['val_loss' ]\n",
    "\n",
    "epochs   = range(len(acc)) # Get number of epochs\n",
    "\n",
    "#------------------------------------------------\n",
    "# Plot training and validation accuracy per epoch\n",
    "#------------------------------------------------\n",
    "plt.plot  ( epochs,     acc, label='Training')\n",
    "plt.plot  ( epochs, val_acc, label='Validation')\n",
    "plt.title ('Training and validation accuracy')\n",
    "plt.legend()\n",
    "plt.figure()\n",
    "\n",
    "#------------------------------------------------\n",
    "# Plot training and validation loss per epoch\n",
    "#------------------------------------------------\n",
    "plt.plot  ( epochs,     loss, label='Training')\n",
    "plt.plot  ( epochs, val_loss, label='Validation')\n",
    "plt.legend()\n",
    "plt.title ('Training and validation loss')"
   ]
  },
  {
   "cell_type": "markdown",
   "metadata": {
    "colab_type": "text",
    "id": "DgmSjUST4qoS"
   },
   "source": [
    "As you can see, we are **overfitting** like it's getting out of fashion. Our training accuracy (in blue) gets close to 100% (!) while our validation accuracy (in orange) stalls as 70%. Our validation loss reaches its minimum after only five epochs.\n",
    "\n",
    "Since we have a relatively small number of training examples (2000), overfitting should be our number one concern. Overfitting happens when a model exposed to too few examples learns patterns that do not generalize to new data, i.e. when the model starts using irrelevant features for making predictions. For instance, if you, as a human, only see three images of people who are lumberjacks, and three images of people who are sailors, and among them the only person wearing a cap is a lumberjack, you might start thinking that wearing a cap is a sign of being a lumberjack as opposed to a sailor. You would then make a pretty lousy lumberjack/sailor classifier.\n",
    "\n",
    "Overfitting is the central problem in machine learning: given that we are fitting the parameters of our model to a given dataset, how can we make sure that the representations learned by the model will be applicable to data never seen before? How do we avoid learning things that are specific to the training data?\n",
    "\n",
    "In the next exercise, we'll look at ways to prevent overfitting in the cat vs. dog classification model."
   ]
  },
  {
   "cell_type": "markdown",
   "metadata": {
    "colab_type": "text",
    "id": "smI2o8rbNlEr"
   },
   "source": [
    "## Save the Model\n",
    "\n",
    "In the cell below, save the trained model as a Keras model (`.h5` file).\n",
    "\n",
    "**HINT**: Use `model.save()`. Feel free to take a look at the `Linear-to-JavaScript.ipynb` example."
   ]
  },
  {
   "cell_type": "code",
   "execution_count": 22,
   "metadata": {
    "colab": {},
    "colab_type": "code",
    "id": "a8LBu8zgNn-z"
   },
   "outputs": [],
   "source": [
    "# EXERCISE: Save the trained model as a Keras HDF5 file. \n",
    "\n",
    "saved_model_path = \"./model_training.h5\"\n",
    "\n",
    "# YOUR CODE HERE\n",
    "model.save(saved_model_path)\n"
   ]
  },
  {
   "cell_type": "code",
   "execution_count": null,
   "metadata": {},
   "outputs": [],
   "source": [
    "!mkdir tes1"
   ]
  },
  {
   "cell_type": "markdown",
   "metadata": {
    "colab_type": "text",
    "id": "uzDtTYpxeAzR"
   },
   "source": [
    "## Run the TensorFlow.js Converter on The Saved Keras Model\n",
    "\n",
    "In the cell below, use the `tensorflowjs_converter` to convert the saved Keras model into JSON format.\n",
    "\n",
    "**HINT**: Make sure you specify the format of the input model as Keras by using the `--input_format` option. Feel free to take a look at the `Linear-to-JavaScript.ipynb` example and the [TensorFlow.js converter documentation](https://github.com/tensorflow/tfjs/tree/master/tfjs-converter#step-1-converting-a-tensorflow-savedmodel-tensorflow-hub-module-keras-hdf5-or-tfkeras-savedmodel-to-a-web-friendly-format). There's also an extra commented line below in case you need to re-run the converter and want to delete previously generated files."
   ]
  },
  {
   "cell_type": "code",
   "execution_count": 24,
   "metadata": {
    "colab": {},
    "colab_type": "code",
    "id": "_r5jrUuKNe73"
   },
   "outputs": [],
   "source": [
    "# EXERCISE: Use the tensorflow.js converter to convert the saved Keras model into JSON format.\n",
    "\n",
    "# Uncomment the next line if you want to clear previously generated .bin and json files before running the converter\n",
    "# !rm *.bin model.json submission.zip\n",
    "\n",
    "# YOUR CODE HERE\n",
    "! tensorflowjs_converter \\\n",
    "  --input_format=keras \\\n",
    "  model_training.h5 \\\n",
    "  \"./tes1\""
   ]
  },
  {
   "cell_type": "markdown",
   "metadata": {},
   "source": [
    "If you did things correctly, you should now have a **JSON** file named `model.json` and various `.bin` files, such as `group1-shard1of10.bin`. The number of `.bin` files will depend on the size of your model: the larger your model, the greater the number of `.bin` files. The `model.json` file contains the architecture of your model and the `.bin` files will contain the weights of your model.\n",
    "\n",
    "You can use the next line to zip all the necessary files for the grader. After running this, click `Lab Files` on the upper right of this Coursera Labs environment, click on `/home/jovyan/work`, then find `submission.zip`. You can then click on the checkbox beside it, then click `Download` at the top to save it locally. You'll then upload this to the grader in the next classroom item."
   ]
  },
  {
   "cell_type": "code",
   "execution_count": 26,
   "metadata": {},
   "outputs": [
    {
     "name": "stdout",
     "output_type": "stream",
     "text": [
      "updating: home/jovyan/work/tes1/ (stored 0%)\n",
      "  adding: home/jovyan/work/tes1/group1-shard12of22.bin (deflated 7%)\n",
      "  adding: home/jovyan/work/tes1/group1-shard3of22.bin (deflated 7%)\n",
      "  adding: home/jovyan/work/tes1/group1-shard21of22.bin (deflated 7%)\n",
      "  adding: home/jovyan/work/tes1/group1-shard16of22.bin (deflated 7%)\n",
      "  adding: home/jovyan/work/tes1/group1-shard7of22.bin (deflated 7%)\n",
      "  adding: home/jovyan/work/tes1/group1-shard14of22.bin (deflated 7%)\n",
      "  adding: home/jovyan/work/tes1/group1-shard5of22.bin (deflated 7%)\n",
      "  adding: home/jovyan/work/tes1/group1-shard18of22.bin (deflated 7%)\n",
      "  adding: home/jovyan/work/tes1/group1-shard9of22.bin (deflated 7%)\n",
      "  adding: home/jovyan/work/tes1/group1-shard1of22.bin (deflated 7%)\n",
      "  adding: home/jovyan/work/tes1/group1-shard10of22.bin (deflated 7%)\n",
      "  adding: home/jovyan/work/tes1/group1-shard13of22.bin (deflated 7%)\n",
      "  adding: home/jovyan/work/tes1/group1-shard4of22.bin (deflated 7%)\n",
      "  adding: home/jovyan/work/tes1/group1-shard22of22.bin (deflated 7%)\n",
      "  adding: home/jovyan/work/tes1/model.json (deflated 82%)\n",
      "  adding: home/jovyan/work/tes1/group1-shard17of22.bin (deflated 7%)\n",
      "  adding: home/jovyan/work/tes1/group1-shard8of22.bin (deflated 7%)\n",
      "  adding: home/jovyan/work/tes1/group1-shard15of22.bin (deflated 7%)\n",
      "  adding: home/jovyan/work/tes1/group1-shard6of22.bin (deflated 7%)\n",
      "  adding: home/jovyan/work/tes1/group1-shard19of22.bin (deflated 7%)\n",
      "  adding: home/jovyan/work/tes1/group1-shard2of22.bin (deflated 7%)\n",
      "  adding: home/jovyan/work/tes1/group1-shard20of22.bin (deflated 7%)\n",
      "  adding: home/jovyan/work/tes1/group1-shard11of22.bin (deflated 7%)\n"
     ]
    }
   ],
   "source": [
    "# compress necessary files for grading\n",
    "!zip -r training.zip /home/jovyan/work/tes1"
   ]
  }
 ],
 "metadata": {
  "accelerator": "GPU",
  "colab": {
   "collapsed_sections": [],
   "name": "TFJS_Week3_Exercise.ipynb",
   "provenance": [],
   "toc_visible": true
  },
  "interpreter": {
   "hash": "b3ba2566441a7c06988d0923437866b63cedc61552a5af99d1f4fb67d367b25f"
  },
  "kernelspec": {
   "display_name": "Python 3",
   "language": "python",
   "name": "python3"
  },
  "language_info": {
   "codemirror_mode": {
    "name": "ipython",
    "version": 3
   },
   "file_extension": ".py",
   "mimetype": "text/x-python",
   "name": "python",
   "nbconvert_exporter": "python",
   "pygments_lexer": "ipython3",
   "version": "3.7.6"
  }
 },
 "nbformat": 4,
 "nbformat_minor": 1
}
